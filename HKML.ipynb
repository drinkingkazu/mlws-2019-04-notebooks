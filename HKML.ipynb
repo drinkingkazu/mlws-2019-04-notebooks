{
 "cells": [
  {
   "cell_type": "code",
   "execution_count": 1,
   "metadata": {},
   "outputs": [],
   "source": [
    "from plotly.offline import init_notebook_mode, plot, iplot\n",
    "init_notebook_mode(connected=True)\n",
    "#from plotly.plotly import plot, iplot # for online\n",
    "\n",
    "import plotly.graph_objs as go\n",
    "import numpy as np"
   ]
  },
  {
   "cell_type": "code",
   "execution_count": 2,
   "metadata": {},
   "outputs": [],
   "source": [
    "def plot(data):\n",
    "    \n",
    "    im = np.max(data[:,:,0:19],axis=2)\n",
    "    trace_1d = go.Histogram(x=im.flatten())    \n",
    "    trace_2d = go.Heatmap(z=im,colorscale='Viridis')\n",
    "    qs = data[:,:,0:19]\n",
    "    ts = data[:,:,19:38]\n",
    "    coords_xy = np.where(qs>0)\n",
    "    vals = qs[coords_xy]\n",
    "    coords_z  = (ts[coords_xy]).astype(np.int32)\n",
    "    trace_3d = go.Scatter3d(x=coords_xy[:][0],y=coords_xy[:][1],z=coords_z,\n",
    "                            mode='markers',\n",
    "                            marker = dict(\n",
    "                                size = 6,\n",
    "                                color = np.log(vals*100),\n",
    "                                colorscale='Viridis',\n",
    "                                opacity=0.7\n",
    "                            )\n",
    "                           )\n",
    "    return trace_1d, trace_2d, trace_3d\n",
    "\n",
    "def get_layout_3d(ranges,titles):\n",
    "    layout = go.Layout(\n",
    "        showlegend=False,\n",
    "        #xaxis=titles[0], yaxis=titles[1], zaxis=titles[2],\n",
    "        margin=dict(l=0,r=0,b=0,t=0),        \n",
    "        scene = dict(\n",
    "            xaxis = dict(nticks=10, range = ranges[0], showticklabels=True, title=titles[0],\n",
    "                         backgroundcolor=\"lightgray\", gridcolor=\"rgb(255, 255, 255)\",\n",
    "                         showbackground=True,\n",
    "                        ),\n",
    "            yaxis = dict(nticks=10, range = ranges[1], showticklabels=True, title=titles[1],\n",
    "                         backgroundcolor=\"lightgray\", gridcolor=\"rgb(255, 255, 255)\",\n",
    "                         showbackground=True\n",
    "                        ),\n",
    "            zaxis = dict(nticks=10, range = ranges[2], showticklabels=True, title=titles[2],\n",
    "                         backgroundcolor=\"lightgray\", gridcolor=\"rgb(255, 255, 255)\",\n",
    "                         showbackground=True,\n",
    "                        ),\n",
    "            aspectmode='cube',\n",
    "        ),  \n",
    "    )\n",
    "    return layout"
   ]
  },
  {
   "cell_type": "code",
   "execution_count": 3,
   "metadata": {},
   "outputs": [],
   "source": [
    "import numpy as np\n",
    "npfile=np.load('/scratch/kterao/hkml_data/gamma/E61_gamma_200MeV_R0cm_100evts_10.npz')\n",
    "label=npfile['labels']\n",
    "data=npfile['event_data']"
   ]
  },
  {
   "cell_type": "code",
   "execution_count": 4,
   "metadata": {
    "scrolled": false
   },
   "outputs": [
    {
     "data": {
      "text/html": [
       "<iframe id=\"igraph\" scrolling=\"no\" style=\"border:none;\" seamless=\"seamless\" src=\"https://plot.ly/~kterao/16.embed\" height=\"525px\" width=\"100%\"></iframe>"
      ],
      "text/plain": [
       "<plotly.tools.PlotlyDisplay object>"
      ]
     },
     "execution_count": 4,
     "metadata": {},
     "output_type": "execute_result"
    }
   ],
   "source": [
    "entry = 0\n",
    "# get plotly traces\n",
    "trace1d,trace2d,trace3d = plot(data[entry])\n",
    "\n",
    "# visualize 1d\n",
    "iplot([trace1d])\n",
    "\n",
    "# visualize 2d\n",
    "iplot([trace2d])\n",
    "\n",
    "# visualize 3d\n",
    "ranges=((0.,16.),(0.,40.),(850.,1150.))\n",
    "layout = get_layout_3d(ranges,['Module (vert)','Module (hori)','Time'])\n",
    "fig = go.Figure(data=[trace3d],layout=layout)\n",
    "iplot(fig,filename='my plot')"
   ]
  },
  {
   "cell_type": "code",
   "execution_count": null,
   "metadata": {},
   "outputs": [],
   "source": []
  }
 ],
 "metadata": {
  "kernelspec": {
   "display_name": "Python 2",
   "language": "python",
   "name": "python2"
  },
  "language_info": {
   "codemirror_mode": {
    "name": "ipython",
    "version": 2
   },
   "file_extension": ".py",
   "mimetype": "text/x-python",
   "name": "python",
   "nbconvert_exporter": "python",
   "pygments_lexer": "ipython2",
   "version": "2.7.12"
  }
 },
 "nbformat": 4,
 "nbformat_minor": 2
}
