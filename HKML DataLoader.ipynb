{
 "cells": [
  {
   "cell_type": "markdown",
   "metadata": {},
   "source": [
    "# Data loading for training \n",
    "\n",
    "Fast streaming of data is extremely important for training ML algorithms. As such, ML libraries including `pytorch` provide useful APIs to load data during training. In this notebook, we go over an example of how to implement `pytorch` APIs for streaming the workshop data.\n",
    "\n"
   ]
  },
  {
   "cell_type": "code",
   "execution_count": 1,
   "metadata": {},
   "outputs": [],
   "source": [
    "from __future__ import print_function\n",
    "import numpy as np\n",
    "import os, time\n",
    "import matplotlib.pyplot as plt\n",
    "%matplotlib inline"
   ]
  },
  {
   "cell_type": "markdown",
   "metadata": {},
   "source": [
    "There are 2 base `pytorch` modules to be implemented:\n",
    "* `Dataset` ... represents a blob data instance, defines how data should be read from file, etc.\n",
    "* `DataLoader` ... for streaming data segments from `Dataset`"
   ]
  },
  {
   "cell_type": "code",
   "execution_count": 2,
   "metadata": {},
   "outputs": [],
   "source": [
    "from torch.utils.data import Dataset, DataLoader"
   ]
  },
  {
   "cell_type": "markdown",
   "metadata": {},
   "source": [
    "## Dataset\n",
    "`Dataset` module needs implementation of two attributes: `__len__` (length of our dataset) and `__getitem__` (called to fetch an item in the ordered dataset). Below, we define `HKDataset` which reads data from files whenever requested."
   ]
  },
  {
   "cell_type": "code",
   "execution_count": 3,
   "metadata": {},
   "outputs": [],
   "source": [
    "class HKDataset(Dataset):\n",
    "\n",
    "    def __init__(self, data_dirs, transform=None):\n",
    "        \"\"\"\n",
    "            Args: data_dirs ... a list of data directories to find files (up to 10 files read from each dir)\n",
    "                  transform ... a function applied to pre-process data \n",
    "        \"\"\"\n",
    "        self._transform = transform\n",
    "        self._files = []\n",
    "        \n",
    "        # Load files (up to 10) from each directory in data_dirs list\n",
    "        for d in data_dirs: self._files += [ os.path.join(d,f) for f in os.listdir(d)[0:10] ]\n",
    "\n",
    "        # Need to know the total number of events. Compute.\n",
    "        num_events_v = [np.load(f)['labels'].shape[0] for f in self._files]\n",
    "        length = np.sum(num_events_v)\n",
    "        \n",
    "        # When an event is requested, need to know which file it comes from. Create a file/event index.\n",
    "        self._file_index  = np.zeros([length],dtype=np.int32)\n",
    "        self._event_index = np.zeros([length],dtype=np.int32)\n",
    "        ctr=0\n",
    "        for findex,num_events in enumerate(num_events_v):\n",
    "            self._file_index  [ctr:ctr+num_events] = findex\n",
    "            self._event_index [ctr:ctr+num_events] = np.arange(num_events)\n",
    "            ctr += num_events\n",
    "\n",
    "    def __len__(self):\n",
    "        return len(self._file_index)\n",
    "            \n",
    "    def __getitem__(self,idx):\n",
    "        # Read data file for the specified index=idx\n",
    "        f = np.load(self._files[self._file_index[idx]])\n",
    "        # Retrieve event index in this file that corresponds to overall index=idx\n",
    "        i = self._event_index[idx]\n",
    "        # Retrieve data & label\n",
    "        label = f['labels'][i]\n",
    "        data  = f['event_data'][i]\n",
    "        # Apply transformation function if necessary\n",
    "        if self._transform is not None:\n",
    "            data = self._transform(data)\n",
    "        return data,label,idx"
   ]
  },
  {
   "cell_type": "markdown",
   "metadata": {},
   "source": [
    "Let's instantiate `HKDataset` and try loading data"
   ]
  },
  {
   "cell_type": "code",
   "execution_count": 4,
   "metadata": {},
   "outputs": [
    {
     "name": "stdout",
     "output_type": "stream",
     "text": [
      "25593 total events are loaded!\n"
     ]
    }
   ],
   "source": [
    "# Data directories: let's use e- and mu-\n",
    "DATA_DIRS = ['/scratch/kterao/hkml_data/2d/muminus','/scratch/kterao/hkml_data/2d/eminus']\n",
    "# Craete an instance\n",
    "ds = HKDataset(DATA_DIRS)\n",
    "print(len(ds),'total events are loaded!')"
   ]
  },
  {
   "cell_type": "markdown",
   "metadata": {},
   "source": [
    "Access \"5th event\" and visualize"
   ]
  },
  {
   "cell_type": "code",
   "execution_count": 5,
   "metadata": {
    "scrolled": true
   },
   "outputs": [
    {
     "name": "stdout",
     "output_type": "stream",
     "text": [
      "Entry 5 ... label: 2 ... data shape: (128, 128, 2)\n"
     ]
    },
    {
     "data": {
      "image/png": "[encoded data removed]",
      "text/plain": [
       "<Figure size 432x288 with 1 Axes>"
      ]
     },
     "metadata": {
      "needs_background": "light"
     },
     "output_type": "display_data"
    }
   ],
   "source": [
    "# Access index 5\n",
    "ENTRY=5\n",
    "data,label,idx = ds[ENTRY]\n",
    "\n",
    "# Data shape\n",
    "print('Entry',ENTRY,'... label:',label,'... data shape:',data.shape)\n",
    "\n",
    "# Visualize\n",
    "plt.imshow(data[:,:,0])\n",
    "plt.show()"
   ]
  },
  {
   "cell_type": "markdown",
   "metadata": {},
   "source": [
    "## DataLoader\n",
    "Given a `Dataset` instance, `DataLoader` provides handy features for streaming data including randomization of samples, multi-threaded data read/process (e.g. `transform` function in `Dataset`), etc.. \n",
    "\n",
    "The `DataLoader` is for ML training where we typically access data by a chunk, called _batch_ (or sometimes _mini batch_). The number of samples (e.g. events) in each batch is called _batch size_ (or _mini batch size_). When preparing a batch, `DataLoader` combines (or collates) N events where N is the batch size. You need to provide a function to perform this collation."
   ]
  },
  {
   "cell_type": "code",
   "execution_count": 6,
   "metadata": {},
   "outputs": [],
   "source": [
    "def HKCollate(batch):\n",
    "    data  = np.vstack([sample[0] for sample in batch])\n",
    "    label = [sample[1] for sample in batch]\n",
    "    idx   = [sample[2] for sample in batch]\n",
    "    return data,label,idx"
   ]
  },
  {
   "cell_type": "markdown",
   "metadata": {},
   "source": [
    "Now we can define the dataloader."
   ]
  },
  {
   "cell_type": "code",
   "execution_count": 7,
   "metadata": {},
   "outputs": [],
   "source": [
    "loader = DataLoader(ds,\n",
    "                    batch_size=5, # set the batch size = 50\n",
    "                    shuffle=True,  # enable randomization of samples in a batch\n",
    "                    num_workers=1, # number of workers to parallelize data streaming\n",
    "                    collate_fn=HKCollate # collation method\n",
    "                   )"
   ]
  },
  {
   "cell_type": "markdown",
   "metadata": {},
   "source": [
    "Here's how you can loop over 10 batch samples"
   ]
  },
  {
   "cell_type": "code",
   "execution_count": 8,
   "metadata": {},
   "outputs": [],
   "source": [
    "def loop(loader,loop_limit=3):\n",
    "\n",
    "    # Let's measure time that takes in each loop\n",
    "    trecord = np.zeros([loop_limit],dtype=np.float32)\n",
    "    t = time.time()\n",
    "    for iteration, batch in enumerate(loader):\n",
    "\n",
    "        data,label,index = batch\n",
    "\n",
    "        # Print out some content info\n",
    "        print('Iteration',iteration,'... time:',time.time()-t,'[s]')\n",
    "        print('    Labels:',label)\n",
    "        print('    Index :',index,'\\n')\n",
    "        trecord[iteration] = time.time() - t\n",
    "        t = time.time()\n",
    "\n",
    "        # break when reaching the loop limit\n",
    "        if (iteration+1) == loop_limit:\n",
    "            break\n",
    "    return trecord"
   ]
  },
  {
   "cell_type": "markdown",
   "metadata": {},
   "source": [
    "Let's try running data loader for 5 events"
   ]
  },
  {
   "cell_type": "code",
   "execution_count": 9,
   "metadata": {},
   "outputs": [
    {
     "name": "stdout",
     "output_type": "stream",
     "text": [
      "Iteration 0 ... time: 6.0243601799 [s]\n",
      "    Labels: [2, 1, 2, 2, 1]\n",
      "    Index : [9929, 23361, 13852, 11487, 24578] \n",
      "\n",
      "Iteration 1 ... time: 5.70613002777 [s]\n",
      "    Labels: [2, 1, 1, 2, 2]\n",
      "    Index : [5811, 18119, 23952, 709, 14916] \n",
      "\n",
      "Iteration 2 ... time: 5.89799404144 [s]\n",
      "    Labels: [2, 2, 2, 1, 1]\n",
      "    Index : [8966, 5611, 13569, 22054, 16316] \n",
      "\n",
      "Iteration 3 ... time: 5.2024679184 [s]\n",
      "    Labels: [2, 1, 1, 1, 1]\n",
      "    Index : [6612, 23651, 21302, 18721, 22733] \n",
      "\n",
      "Iteration 4 ... time: 6.37095189095 [s]\n",
      "    Labels: [2, 2, 2, 2, 2]\n",
      "    Index : [606, 14386, 15103, 11438, 10649] \n",
      "\n",
      "Overall average iteration time: 5.841918 [s]\n",
      "First event     iteration time: 6.0267143 [s]\n",
      "After first event average time: 5.7957187 [s]\n"
     ]
    }
   ],
   "source": [
    "time_record = loop(loader,5)\n",
    "print('Overall average iteration time:',time_record.mean(),'[s]')\n",
    "print('First event     iteration time:',time_record[0],    '[s]')\n",
    "print('After first event average time:',time_record[1:].mean(),'[s]')"
   ]
  },
  {
   "cell_type": "markdown",
   "metadata": {},
   "source": [
    "... that was SO SLOW! I hope our impatient team member has not yet thrown his/her laptop yet ;) This slow speed is due to the fact that, for each event, we are performing file open & close. This is very inefficient.\n",
    "\n",
    "## _Faster_ data streaming\n",
    "\n",
    "There are three possible solutions to an issue of slow data streaming. \n",
    "0. read ALL data in the RAM upfront (e.g. creation of `Dataset`)\n",
    "1. increase number of _workers_ to read data (i.e. parallelization)\n",
    "2. combination of 0 and 1: employ parallelization while utilizing some data cache in RAM\n",
    "\n",
    "The first and last methods are bounded by the size of RAM memory availability. Here, we try the option 1. This can be done by specifying _num workers_ argument value at the construction of `DataLoader`."
   ]
  },
  {
   "cell_type": "code",
   "execution_count": 10,
   "metadata": {},
   "outputs": [
    {
     "name": "stdout",
     "output_type": "stream",
     "text": [
      "Iteration 0 ... time: 7.8519949913 [s]\n",
      "    Labels: [2, 2, 1, 1, 2]\n",
      "    Index : [4753, 15021, 18908, 21195, 6830] \n",
      "\n",
      "Iteration 1 ... time: 0.809750080109 [s]\n",
      "    Labels: [1, 2, 2, 2, 2]\n",
      "    Index : [16615, 12437, 4140, 14899, 14000] \n",
      "\n",
      "Iteration 2 ... time: 0.000488042831421 [s]\n",
      "    Labels: [2, 2, 2, 1, 2]\n",
      "    Index : [8951, 3691, 13423, 20795, 2859] \n",
      "\n",
      "Iteration 3 ... time: 5.10215759277e-05 [s]\n",
      "    Labels: [2, 1, 2, 2, 2]\n",
      "    Index : [4246, 24115, 8945, 12991, 12054] \n",
      "\n",
      "Iteration 4 ... time: 4.6968460083e-05 [s]\n",
      "    Labels: [2, 1, 1, 2, 2]\n",
      "    Index : [12918, 17537, 23444, 1387, 11583] \n",
      "\n",
      "Iteration 5 ... time: 0.00012993812561 [s]\n",
      "    Labels: [2, 1, 2, 2, 1]\n",
      "    Index : [10357, 19752, 8765, 11220, 18703] \n",
      "\n",
      "Iteration 6 ... time: 0.0913889408112 [s]\n",
      "    Labels: [2, 2, 2, 1, 2]\n",
      "    Index : [8100, 9157, 14194, 22520, 9166] \n",
      "\n",
      "Iteration 7 ... time: 3.60012054443e-05 [s]\n",
      "    Labels: [1, 2, 1, 1, 2]\n",
      "    Index : [17865, 10158, 24577, 22101, 1558] \n",
      "\n",
      "Iteration 8 ... time: 9.51290130615e-05 [s]\n",
      "    Labels: [1, 1, 1, 1, 2]\n",
      "    Index : [21176, 23232, 20694, 20400, 5414] \n",
      "\n",
      "Iteration 9 ... time: 5.10215759277e-05 [s]\n",
      "    Labels: [1, 2, 2, 1, 1]\n",
      "    Index : [18835, 13666, 13127, 24657, 17760] \n",
      "\n",
      "Overall average iteration time: 0.87667865 [s]\n",
      "First event     iteration time: 7.85535 [s]\n",
      "After first event average time: 0.101270676 [s]\n"
     ]
    }
   ],
   "source": [
    "loader = DataLoader(ds,\n",
    "                    batch_size=5, # set the batch size = 50\n",
    "                    shuffle=True,  # enable randomization of samples in a batch\n",
    "                    num_workers=20, # number of workers to parallelize data streaming\n",
    "                    collate_fn=HKCollate # collation method\n",
    "                   )\n",
    "time_record = loop(loader,10)\n",
    "print('Overall average iteration time:',time_record.mean(),'[s]')\n",
    "print('First event     iteration time:',time_record[0],    '[s]')\n",
    "print('After first event average time:',time_record[1:].mean(),'[s]')"
   ]
  },
  {
   "cell_type": "markdown",
   "metadata": {},
   "source": [
    "The first event takes some time. This is because all workers are initiated and nothing is read yet. However, while 5 workers are reading 5 events to form the first batch, 15 other workers are reading data in parallel and store in a buffer. From the second event and onwards, data in a buffer is loaded (i.e. faster data streaming). At some point, parllel workers and data query will balance out and the speed reaches an equilibrium. You have a good solution when the data streaming speed at the equilibrium is much smaller than the time it takes to consume data, which is an algorithm training step to consume 1 batch of data.\n",
    "\n",
    "If you have questions/suggestions/concerns, [contact me](mailto:kterao@slac.stanford.edu)!"
   ]
  }
 ],
 "metadata": {
  "kernelspec": {
   "display_name": "Python 2",
   "language": "python",
   "name": "python2"
  },
  "language_info": {
   "codemirror_mode": {
    "name": "ipython",
    "version": 2
   },
   "file_extension": ".py",
   "mimetype": "text/x-python",
   "name": "python",
   "nbconvert_exporter": "python",
   "pygments_lexer": "ipython2",
   "version": "2.7.12"
  }
 },
 "nbformat": 4,
 "nbformat_minor": 2
}
